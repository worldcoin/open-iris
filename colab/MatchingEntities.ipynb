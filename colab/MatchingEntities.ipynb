{
 "cells": [
  {
   "cell_type": "markdown",
   "metadata": {},
   "source": [
    "[![Open In Collab](https://colab.research.google.com/assets/colab-badge.svg)](https://colab.research.google.com/github/worldcoin/open-iris/blob/dev/colab/MatchingEntities.ipynb)"
   ]
  },
  {
   "cell_type": "markdown",
   "metadata": {},
   "source": [
    "# IRIS: _Matching entities_ tutorial\n",
    "\n",
    "This Jupyter Notebook will walk you through the basics of how to use matchers available in the `iris` package. From it you will learn how to:\n",
    "- Use the `HammingDistanceMatcher` matcher to compute distance between two eyes."
   ]
  },
  {
   "cell_type": "markdown",
   "metadata": {},
   "source": [
    "## 0. Installing `iris` package in the `SERVER` environment."
   ]
  },
  {
   "cell_type": "markdown",
   "metadata": {},
   "source": [
    "Install `iris` package"
   ]
  },
  {
   "cell_type": "code",
   "execution_count": null,
   "metadata": {},
   "outputs": [],
   "source": [
    "!pip install onnx onnxruntime pydantic==1.10.16 huggingface-hub pyyaml\n",
    "!pip install --no-deps open-iris"
   ]
  },
  {
   "cell_type": "markdown",
   "metadata": {},
   "source": [
    "Verify installation by printing `iris` version"
   ]
  },
  {
   "cell_type": "code",
   "execution_count": null,
   "metadata": {},
   "outputs": [],
   "source": [
    "import iris\n",
    "\n",
    "print(iris.__version__)"
   ]
  },
  {
   "cell_type": "markdown",
   "metadata": {},
   "source": [
    "Download sample IR images for experimenting."
   ]
  },
  {
   "cell_type": "code",
   "execution_count": null,
   "metadata": {},
   "outputs": [],
   "source": [
    "!wget https://wld-ml-ai-data-public.s3.amazonaws.com/public-iris-images/example_orb_image_1.png -O ./subject1_first_image.png\n",
    "!wget https://wld-ml-ai-data-public.s3.amazonaws.com/public-iris-images/example_orb_image_2.png -O ./subject1_second_image.png\n",
    "!wget https://wld-ml-ai-data-public.s3.amazonaws.com/public-iris-images/example_orb_image_3.png -O ./subject2_image.png"
   ]
  },
  {
   "cell_type": "markdown",
   "metadata": {},
   "source": [
    "## 1. Use the `HammingDistanceMatcher` matcher to compute distance between two eyes."
   ]
  },
  {
   "cell_type": "markdown",
   "metadata": {},
   "source": [
    "Load all IR images with `opencv-python` package. "
   ]
  },
  {
   "cell_type": "code",
   "execution_count": null,
   "metadata": {},
   "outputs": [],
   "source": [
    "import cv2\n",
    "\n",
    "subject1_first_image = cv2.imread(\"./subject1_first_image.png\", cv2.IMREAD_GRAYSCALE)\n",
    "subject1_second_image = cv2.imread(\"./subject1_second_image.png\", cv2.IMREAD_GRAYSCALE)\n",
    "subject2_image = cv2.imread(\"./subject2_image.png\", cv2.IMREAD_GRAYSCALE)"
   ]
  },
  {
   "cell_type": "code",
   "execution_count": null,
   "metadata": {},
   "outputs": [],
   "source": [
    "import matplotlib.pyplot as plt\n",
    "\n",
    "plt.imshow(subject1_first_image, cmap='gray')\n",
    "plt.title('Subject 1, image 1')\n",
    "plt.show()\n",
    "\n",
    "plt.imshow(subject1_second_image, cmap='gray')\n",
    "plt.title('Subject 1, image 2')\n",
    "plt.show()\n",
    "\n",
    "plt.imshow(subject2_image, cmap='gray')\n",
    "plt.title('Subject 2, image 1')\n",
    "plt.show()"
   ]
  },
  {
   "cell_type": "markdown",
   "metadata": {},
   "source": [
    "Create `IRISPipeline` object and compute `IrisTemplate`s for all images."
   ]
  },
  {
   "cell_type": "code",
   "execution_count": null,
   "metadata": {},
   "outputs": [],
   "source": [
    "import iris\n",
    "\n",
    "iris_pipeline = iris.IRISPipeline()\n",
    "\n",
    "output_1 = iris_pipeline(iris.IRImage(img_data=subject1_first_image, image_id=\"subject1_first_image\", eye_side=\"left\"))\n",
    "subject1_first_code = output_1['iris_template']\n",
    "\n",
    "output_2 = iris_pipeline(iris.IRImage(img_data=subject1_second_image, image_id=\"subject1_second_image\", eye_side=\"left\"))\n",
    "subject1_second_code = output_2['iris_template']\n",
    "\n",
    "output_3 = iris_pipeline(iris.IRImage(img_data=subject2_image, image_id=\"subject2_image\", eye_side=\"left\"))\n",
    "subject2_code = output_3['iris_template']"
   ]
  },
  {
   "cell_type": "markdown",
   "metadata": {},
   "source": [
    "Create a `HammingDistanceMatcher` matcher object.\n",
    "```python\n",
    "def __init__(\n",
    "        self,\n",
    "        rotation_shift: int = 15,\n",
    "        nm_dist: Optional[confloat(ge=0, le=1, strict=True)] = None,\n",
    "        weights: Optional[List[np.ndarray]] = None,\n",
    "    ) -> None:\n",
    "        \"\"\"Assign parameters.\n",
    "\n",
    "        Args:\n",
    "            rotation_shift (int): rotations allowed in matching, converted to shifts in columns. Defaults to 15.\n",
    "            nm_dist (Optional[confloat(ge=0, le = 1, strict=True)]): nonmatch distance used for normalized HD. Optional paremeter for normalized HD. Defaults to None.\n",
    "            weights (Optional[List[np.ndarray]]): list of weights table. Optional paremeter for weighted HD. Defaults to None.\n",
    "        \"\"\"\n",
    "```"
   ]
  },
  {
   "cell_type": "code",
   "execution_count": null,
   "metadata": {},
   "outputs": [],
   "source": [
    "matcher = iris.HammingDistanceMatcher()"
   ]
  },
  {
   "cell_type": "markdown",
   "metadata": {},
   "source": [
    "Call `run` method and provide two `IrisTemplate`s to compute distances.\n",
    "```python\n",
    "def run(self, template_probe: IrisTemplate, template_gallery: IrisTemplate) -> float:\n",
    "```"
   ]
  },
  {
   "cell_type": "code",
   "execution_count": null,
   "metadata": {},
   "outputs": [],
   "source": [
    "same_subjects_distance = matcher.run(subject1_first_code, subject1_second_code)\n",
    "\n",
    "print(f\"Computed distance between eyes of the `subject_1` is {same_subjects_distance:.4f}\")\n",
    "\n",
    "different_subjects_distance = matcher.run(subject1_first_code, subject2_code)\n",
    "\n",
    "print(f\"Computed distance between eyes of the `subject_1` and `subject_2` is {different_subjects_distance:.4f}\")"
   ]
  },
  {
   "cell_type": "markdown",
   "metadata": {},
   "source": [
    "The recommended threshold is between 0.34 and 0.39 depending on the sensibitity of your use case, 0.37 is a good choice if you do not favor False Matches or False Non-Matches.\n",
    "\n",
    "In this example, the two iris images from the same subject are clearly matched, and those form different subjects clearly non-matched.\n",
    "\n",
    "### Thank you for making it to the end of this tutorial!"
   ]
  }
 ],
 "metadata": {
  "kernelspec": {
   "display_name": "open_iris_dev",
   "language": "python",
   "name": "python3"
  },
  "language_info": {
   "codemirror_mode": {
    "name": "ipython",
    "version": 3
   },
   "file_extension": ".py",
   "mimetype": "text/x-python",
   "name": "python",
   "nbconvert_exporter": "python",
   "pygments_lexer": "ipython3",
   "version": "3.9.0"
  }
 },
 "nbformat": 4,
 "nbformat_minor": 4
}
