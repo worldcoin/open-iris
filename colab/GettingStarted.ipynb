{
 "cells": [
  {
   "cell_type": "markdown",
   "id": "c5544a69-1012-4277-a9ec-c3b4843cb951",
   "metadata": {},
   "source": [
    "[![Open In Collab](https://colab.research.google.com/assets/colab-badge.svg)](https://colab.research.google.com/github/worldcoin/open-iris/blob/main/colab/GettingStarted.ipynb)"
   ]
  },
  {
   "cell_type": "markdown",
   "id": "7638ad51-62fe-44ac-9a54-0accad911f37",
   "metadata": {},
   "source": [
    "# IRIS: _Getting started_ tutorial\n",
    "\n",
    "This Jupyter Notebook will walk you through you the basics of usage `iris` package. From it you will learn how to:\n",
    "- Perform an `IRISPipeline` inference call.\n",
    "- Configure `IRISPipeline` environment to modify error handling and return behaviour.\n",
    "- Visualize `IRISPipeline` intermediate results."
   ]
  },
  {
   "cell_type": "markdown",
   "id": "2725bedf-fdac-4faa-868d-d007e9a9ba1e",
   "metadata": {},
   "source": [
    "## 0. Installing `iris` package in the `SERVER` environment."
   ]
  },
  {
   "cell_type": "markdown",
   "id": "0da751ef-6273-4302-a1be-be05ad1d4bb0",
   "metadata": {},
   "source": [
    "Install `iris` package"
   ]
  },
  {
   "cell_type": "code",
   "execution_count": null,
   "id": "b377bfbb-d1a7-4df8-bcc7-ce13725229f8",
   "metadata": {
    "scrolled": true
   },
   "outputs": [],
   "source": [
    "!pip install onnx onnxruntime pydantic==1.10.16 huggingface-hub pyyaml\n",
    "!pip install --no-deps open-iris"
   ]
  },
  {
   "cell_type": "markdown",
   "id": "b600b48b-66c5-412b-a732-5cdb3da452cd",
   "metadata": {},
   "source": [
    "Verify installation by printing `iris` version"
   ]
  },
  {
   "cell_type": "code",
   "execution_count": null,
   "id": "e58fc558-68e1-4d27-a57d-39a3e97882c9",
   "metadata": {},
   "outputs": [],
   "source": [
    "import iris\n",
    "\n",
    "print(iris.__version__)"
   ]
  },
  {
   "cell_type": "markdown",
   "id": "35300bf0-49e7-4747-9a06-856ed4b73638",
   "metadata": {},
   "source": [
    "Download sample IR image for experimenting."
   ]
  },
  {
   "cell_type": "code",
   "execution_count": null,
   "id": "772e04cf-0342-4da5-be80-4b1aaa3ec27a",
   "metadata": {},
   "outputs": [],
   "source": [
    "!wget https://wld-ml-ai-data-public.s3.amazonaws.com/public-iris-images/example_orb_image_1.png -O ./sample_ir_image.png"
   ]
  },
  {
   "cell_type": "markdown",
   "id": "5c8718c6-9011-46d8-bb30-776ffd015c8e",
   "metadata": {},
   "source": [
    "## 1. Running the `IRISPipeline` inference"
   ]
  },
  {
   "cell_type": "markdown",
   "id": "1e6e9ece-7dd1-4d04-a5a6-3352a5bc8c5a",
   "metadata": {},
   "source": [
    "Load IR image with `opencv-python` package. "
   ]
  },
  {
   "cell_type": "code",
   "execution_count": null,
   "id": "da33aefd-4b62-441c-8542-ca82ad862579",
   "metadata": {},
   "outputs": [],
   "source": [
    "import cv2\n",
    "import matplotlib.pyplot as plt\n",
    "\n",
    "img_pixels = cv2.imread(\"./sample_ir_image.png\", cv2.IMREAD_GRAYSCALE)\n",
    "plt.imshow(img_pixels, cmap='gray')"
   ]
  },
  {
   "cell_type": "markdown",
   "id": "e87d4158-e681-4152-b7b8-66427041832a",
   "metadata": {},
   "source": [
    "Create `IRISPipeline` object"
   ]
  },
  {
   "cell_type": "code",
   "execution_count": null,
   "id": "f788b312-971f-4b32-93c2-162b28a80cb8",
   "metadata": {},
   "outputs": [],
   "source": [
    "iris_pipeline = iris.IRISPipeline()"
   ]
  },
  {
   "cell_type": "markdown",
   "id": "d0df88e3-bb45-4d7c-a3eb-f7a4674fc1e8",
   "metadata": {},
   "source": [
    "Run `IRISPipeline` inference. \n",
    "There are several methods that wraps `IRISPipeline` inference call. Each one of them leads to the same source code being called. Possible options are:\n",
    "1) Using `__call__` operator \n",
    "2) Using `run` method\n",
    "3) Using `estimate` method\n",
    "\n",
    "```python\n",
    "# Options for the `eye_side` argument are: [\"left\", \"right\"]\n",
    "output = iris_pipeline(iris.IRImage(img_data=img_pixels, image_id=\"image_id\", eye_side=\"right\"))\n",
    "output = iris_pipeline.run(iris.IRImage(img_data=img_pixels, image_id=\"image_id\", eye_side=\"right\"))\n",
    "output = iris_pipeline.estimate(iris.IRImage(img_data=img_pixels, image_id=\"image_id\", eye_side=\"right\"))\n",
    "```"
   ]
  },
  {
   "cell_type": "code",
   "execution_count": null,
   "id": "b41e8d94-2fc0-41ec-9a17-6f5c5e2fced6",
   "metadata": {},
   "outputs": [],
   "source": [
    "output = iris_pipeline(iris.IRImage(img_data=img_pixels, image_id=\"image_id\", eye_side=\"right\"))"
   ]
  },
  {
   "cell_type": "markdown",
   "id": "c1d9577a-afab-42cc-b61c-33fdda3f3398",
   "metadata": {},
   "source": [
    "The output of `IRISPipeline` is a dictionary with following keys:"
   ]
  },
  {
   "cell_type": "code",
   "execution_count": null,
   "id": "d794e6d7-2996-4035-a37c-aeba6c7660f2",
   "metadata": {},
   "outputs": [],
   "source": [
    "output.keys()"
   ]
  },
  {
   "cell_type": "markdown",
   "id": "38eeace5-b23c-4e1e-ac9d-31e989a8b199",
   "metadata": {},
   "source": [
    "The `error` value contains information about potential exceptions being raised during performing inference. The `IRISPipeline` implements the concept of a state machine. Therefore, error handling is done through setting an appropriate variable and returning it to user for inference success status verification.\n",
    "\n",
    "If `output[\"error\"]` value is `None`, `IRISPipeline` finished inference call without any exception being raised. If the `IRISPipeline` raised some exception when performing an inference, `output[\"error\"]` value will be a  `dict`, containing three keys: `[\"error_type\", \"message\", \"traceback\"]`. An example of `output[\"error\"]` with an error looks like:\n",
    "```python\n",
    "{\n",
    "    'error_type': 'TypeError', \n",
    "    'message': \"run() got an unexpected keyword argument 'segmentation_map2'\", \n",
    "    'traceback': 'Very long exception traceback'\n",
    "}\n",
    "```"
   ]
  },
  {
   "cell_type": "code",
   "execution_count": null,
   "id": "4b4c855b-59af-4072-85da-64abb55ae492",
   "metadata": {},
   "outputs": [],
   "source": [
    "# Verify IRISPipeline inference call finished without any exception being raised\n",
    "output[\"error\"] is None"
   ]
  },
  {
   "cell_type": "markdown",
   "id": "3b2896e5-5069-48db-b855-cd80ea04cd6e",
   "metadata": {},
   "source": [
    "The `iris_template` value contains generated by the `IRISPipeline` iris code for an iris texture visible in the input image. The `output[\"iris_template\"]` value is a `IrisTemplate` object containing two fields: `[\"iris_codes: List[np.ndarray]\", \"mask_codes: List[np.ndarray]\"]`. \n",
    "\n",
    "Each code available in `output[\"iris_template\"]` object is a `numpy.ndarray` of shape `(16, 256, 2)`. The length of arrays containing iris codes and mask codes is determined by `IRISPipeline` filter bank parameters. The iris/mask code shape's dimmensions correspond to the following `(iris_code_height, iris_code_width, 2)`. Values `iris_code_height` and `iris_code_width` are determined by `ProbeSchema`'s definition for `ConvFilterBank` object and `num_filters` is determined by number of filters specified for `ConvFilterBank` object. The last `2` value of the iris/mask code dimmension corresponds to the real and imaginary parts of each complex filter response.\n",
    "\n",
    "_NOTE_: More about how to specify those parameters and configuring custom `IRISPipeline` can be found in the _Configuring custom pipeline_ tutorial."
   ]
  },
  {
   "cell_type": "code",
   "execution_count": null,
   "id": "5d633055-b952-4689-a457-239f7acfe455",
   "metadata": {},
   "outputs": [],
   "source": [
    "\"\"\"Available fields in `output[\"iris_template\"]` are: \"\"\" + str(output[\"iris_template\"].__fields__)"
   ]
  },
  {
   "cell_type": "code",
   "execution_count": null,
   "id": "302b0b34-04d9-46dd-8f4c-038955731b66",
   "metadata": {},
   "outputs": [],
   "source": [
    "num_codes = len(output[\"iris_template\"].iris_codes)\n",
    "code_shape = output[\"iris_template\"].iris_codes[0].shape\n",
    "\n",
    "f\"\"\"Number of returned iris codes is equal to {num_codes} and each code shape is {code_shape}\"\"\""
   ]
  },
  {
   "cell_type": "markdown",
   "id": "b8746399-2657-4185-a2e4-f97d439154c2",
   "metadata": {},
   "source": [
    "The `metadata` value contains additional information that may be useful for further processing or quality analisys. Metadata information contain in this dictionary presents as follow."
   ]
  },
  {
   "cell_type": "code",
   "execution_count": null,
   "id": "d671bceb-7938-4656-b803-ef561ae4d177",
   "metadata": {},
   "outputs": [],
   "source": [
    "output[\"metadata\"]"
   ]
  },
  {
   "cell_type": "markdown",
   "id": "d9acb269-8783-45d3-9fa9-a23187e205d8",
   "metadata": {},
   "source": [
    "Configuring pipelines error handling and which intermediate results are returned can be achived through `Environment` parameter set when the `IRISPipeline` is instantiate. To understand more about that subject please follow to the notebook's next section - _2. Configuring `IRISPipeline` environment_."
   ]
  },
  {
   "cell_type": "markdown",
   "id": "d68022fc-51df-469e-8355-ecc6e12681d2",
   "metadata": {},
   "source": [
    "----\n",
    "## 2. Configuring `IRISPipeline` environment"
   ]
  },
  {
   "cell_type": "markdown",
   "id": "41ce28e8-7110-4ef0-b801-c08e271abfe9",
   "metadata": {},
   "source": [
    "Before diving deeper into how exactly one can modify error handling or return behaviour let's first investigate what are `IRISPipeline` instantiation parameters. The `IRISPipeline`'s `__init__` method presents as follow.\n",
    "\n",
    "```python\n",
    "def __init__(\n",
    "    self,\n",
    "    config: Union[Dict[str, Any], Optional[str]] = None,\n",
    "    env: Environment = Environment(\n",
    "        pipeline_output_builder=build_orb_output,\n",
    "        error_manager=store_error_manager,\n",
    "        call_trace_initialiser=PipelineCallTraceStorage.initialise,\n",
    "    ),\n",
    ") -> None:\n",
    "```\n",
    "\n",
    "There are two parameters we can specify:\n",
    "1) `config: Union[Dict[str, Any], Optional[str]]` - refers to `IRISPipeline` configuration that specified what nodes pipeline has and how all of them are orchestrated/connected into pipeline graph. How to configure pipeline graph is a subject of the tutorial _Configuring custom pipeline_ tutorial.\n",
    "   \n",
    "2) `env: Environment` - refers to `IRISPipeline` enviroment that manages error handling and return behaviour of the `IRISPipeline`.\n",
    "\n",
    "From that we can see that in order to modify error handling or return behaviour we have to introduce our own `Environment` object when creating the `IRISPipeline` object. The `Environment` object is defined as follow.\n",
    "\n",
    "```python\n",
    "class Environment(ImmutableModel):\n",
    "    call_trace_initialiser: Callable[[Dict[str, Algorithm], List[PipelineNode]], PipelineCallTraceStorage]\n",
    "    pipeline_output_builder: Callable[[PipelineCallTraceStorage], Any]\n",
    "    error_manager: Callable[[PipelineCallTraceStorage, Exception], None]\n",
    "    disabled_qa: List[type] = []\n",
    "```\n",
    "Parameters of the `Environment` class are responsible for following:\n",
    "- `call_trace_initialiser` - is responsible for initialising the `PipelineCallTraceStorage` instance in the pipeline.\n",
    "  \n",
    "- `pipeline_output_builder` - is responsible for building the pipeline output from the `call_trace`, which kept all intermediary results so far.\n",
    "- `error_manager` - is responsible for the pipeline's behaviour in case of an exception\n",
    "- `disabled_qa` - stores a list of `Algorithm`s and/or `Callback`s types to be disabled when performing an inference call.\n",
    "\n",
    "Apart from `Environment` that `IRISPipeline` has setup by default, it also provides additional `Environment` that user can set. `Environment` is defined within `IRISPipeline` and is called `DEBUGGING_ENVIRONMENT`. As name suggest, this `Environment` is useful whenever user wants to debug pipeline by getting more insights on information flowing through the system. The `DEBUGGING_ENVIRONMENT` is defined as follow.\n",
    "\n",
    "```python\n",
    "DEBUGGING_ENVIRONMENT = Environment(\n",
    "    pipeline_output_builder=build_debugging_output,\n",
    "    error_manager=store_error_manager,\n",
    "    disabled_qa=[\n",
    "        iris.nodes.validators.object_validators.Pupil2IrisPropertyValidator,\n",
    "        iris.nodes.validators.object_validators.OffgazeValidator,\n",
    "        iris.nodes.validators.object_validators.OcclusionValidator,\n",
    "        iris.nodes.validators.object_validators.IsPupilInsideIrisValidator,\n",
    "        iris.nodes.validators.object_validators.IsMaskTooSmallValidator,\n",
    "        iris.nodes.validators.cross_object_validators.EyeCentersInsideImageValidator,\n",
    "        iris.nodes.validators.cross_object_validators.ExtrapolatedPolygonsInsideImageValidator,\n",
    "    ],\n",
    "    call_trace_initialiser=PipelineCallTraceStorage.initialise,\n",
    ")\n",
    "```\n",
    "\n",
    "Let's test it and see the output of the `IRISPipeline` with `DEBUGGING_ENVIRONMENT` set."
   ]
  },
  {
   "cell_type": "code",
   "execution_count": null,
   "id": "06beb291-809e-4706-90b6-c0c484456423",
   "metadata": {},
   "outputs": [],
   "source": [
    "iris_pipeline = iris.IRISPipeline(env=iris.IRISPipeline.DEBUGGING_ENVIRONMENT)\n",
    "\n",
    "output = iris_pipeline(iris.IRImage(img_data=img_pixels, image_id=\"image_id\", eye_side=\"right\"))"
   ]
  },
  {
   "cell_type": "markdown",
   "id": "e6674a17-1d96-40ea-95ca-2a65ecef2466",
   "metadata": {},
   "source": [
    "In the same manner, we can investigate what has been returned from `DEBUGGING_ENVIRONMENT` and we can see that more intermediate result are available for us in the `output` dictionary."
   ]
  },
  {
   "cell_type": "code",
   "execution_count": null,
   "id": "48f2dd14-f6c5-4065-9e44-9758897fb308",
   "metadata": {},
   "outputs": [],
   "source": [
    "output.keys()"
   ]
  },
  {
   "cell_type": "markdown",
   "id": "241214f5-5adc-4f1b-a3cd-f461eb3ab7cf",
   "metadata": {},
   "source": [
    "User can also create and introduce to `IRISPipeline` their own `Environment` variables as far as they fulfill `Environment` class variables typings. For examples, please checkout `iris.orchestration.output_builders` module."
   ]
  },
  {
   "cell_type": "markdown",
   "id": "a703f17c-b4ba-4e13-933d-b4101e067fb0",
   "metadata": {},
   "source": [
    "----\n",
    "## 3. Visualizing results"
   ]
  },
  {
   "cell_type": "markdown",
   "id": "e842b21e-9798-408c-827c-628708fecc24",
   "metadata": {},
   "source": [
    "The `iris` package provides also a useful module for plotting intermediate results - `iris.visualisation`. The main class of the module - `IRISVisualizer` - provides a bunch of plot functions that given appropriate intermediate result creates a ready to dispay `Canvas`. Definition of the `Canvas` type looks like follow.\n",
    "\n",
    "```python\n",
    "Canvas = Tuple[matplotlib.figure.Figure, Union[matplotlib.axes._axes.Axes, np.ndarray]]\n",
    "```\n",
    "\n",
    "In order to utilize `iris` package visualisation mechanisms, we have start with creating the `IRISVisualizer` class."
   ]
  },
  {
   "cell_type": "code",
   "execution_count": null,
   "id": "cd6911fd-3c83-49d2-919d-455a91e18563",
   "metadata": {},
   "outputs": [],
   "source": [
    "iris_visualizer = iris.visualisation.IRISVisualizer()"
   ]
  },
  {
   "cell_type": "markdown",
   "id": "7f33427b-b604-493f-ab35-28005a15dd40",
   "metadata": {},
   "source": [
    "Having that done, we can use it's method by either providing `iris` package specific dataclasses or their serialized versions. \n",
    "\n",
    "_NOTE_: Available by default `IRISPipeline`'s `Environment`s return serialized version of `iris` dataclasses objects. That behaviour can be changed by creating and specifying as the `IRISPipeline` parameter your own custom `Environment` class object (see Section 2 for more details how to do that).\n",
    "\n",
    "Below you can find a bunch of exemplary `iris_visualizer` plotting methods calls. "
   ]
  },
  {
   "cell_type": "code",
   "execution_count": null,
   "id": "318fd19a-015b-404d-a278-0fdfa57ab492",
   "metadata": {},
   "outputs": [],
   "source": [
    "import matplotlib.pyplot as plt\n",
    "\n",
    "canvas = iris_visualizer.plot_ir_image(iris.IRImage(img_data=img_pixels, eye_side=\"right\"))\n",
    "plt.show()\n",
    "\n",
    "canvas = iris_visualizer.plot_iris_template(output[\"iris_template\"])\n",
    "plt.show()"
   ]
  },
  {
   "cell_type": "code",
   "execution_count": null,
   "id": "64c3c4f7",
   "metadata": {},
   "outputs": [],
   "source": [
    "output['metadata']['eye_side']"
   ]
  },
  {
   "cell_type": "markdown",
   "id": "a6ac23dc",
   "metadata": {},
   "source": [
    "---\n",
    "## 4. Visualising intermediary results\n",
    "\n",
    "Here is how you can access the actual list of nodes (i.e. the graph of algorithms that were used to process the input image into an iris code) used in the iris pipeline"
   ]
  },
  {
   "cell_type": "code",
   "execution_count": null,
   "id": "01697a7e",
   "metadata": {},
   "outputs": [],
   "source": [
    "iris_pipeline.params.pipeline"
   ]
  },
  {
   "cell_type": "markdown",
   "id": "a3b02dfd",
   "metadata": {},
   "source": [
    "These are declared in the yaml file used to define the computation graph. By delaut, it is located at `src/iris/pipelines/confs/pipeline.yaml`"
   ]
  },
  {
   "cell_type": "markdown",
   "id": "dd07bc9e",
   "metadata": {},
   "source": [
    "The iris pipeline object stores all intermediary results from the previous computation in its `call_trace`. This is reseted at every call, so only the latest intermediary results are available"
   ]
  },
  {
   "cell_type": "code",
   "execution_count": null,
   "id": "bbe1e8ea",
   "metadata": {},
   "outputs": [],
   "source": [
    "iris_pipeline.call_trace['segmentation']"
   ]
  },
  {
   "cell_type": "code",
   "execution_count": null,
   "id": "acdf62cb",
   "metadata": {},
   "outputs": [],
   "source": [
    "canvas = iris_visualizer.plot_segmentation_map(\n",
    "    ir_image=iris.IRImage(img_data=img_pixels, eye_side=\"right\"),\n",
    "    segmap=iris_pipeline.call_trace['segmentation'],\n",
    ")\n",
    "plt.show()"
   ]
  },
  {
   "cell_type": "code",
   "execution_count": null,
   "id": "9c2a2a41",
   "metadata": {},
   "outputs": [],
   "source": [
    "canvas = iris_visualizer.plot_all_geometry(\n",
    "    ir_image=iris.IRImage(img_data=img_pixels, eye_side=\"right\"),\n",
    "    geometry_polygons=iris_pipeline.call_trace['vectorization'],\n",
    "    eye_orientation=iris_pipeline.call_trace['eye_orientation'],\n",
    "    eye_center=iris_pipeline.call_trace['eye_center_estimation'],\n",
    ")\n",
    "plt.show()"
   ]
  },
  {
   "cell_type": "code",
   "execution_count": null,
   "id": "52038fef",
   "metadata": {},
   "outputs": [],
   "source": [
    "canvas = iris_visualizer.plot_all_geometry(\n",
    "    ir_image=iris.IRImage(img_data=img_pixels, eye_side=\"right\"),\n",
    "    geometry_polygons=iris_pipeline.call_trace['geometry_estimation'],\n",
    "    eye_orientation=iris_pipeline.call_trace['eye_orientation'],\n",
    "    eye_center=iris_pipeline.call_trace['eye_center_estimation'],\n",
    ")\n",
    "plt.show()"
   ]
  },
  {
   "cell_type": "code",
   "execution_count": null,
   "id": "eba68cd5",
   "metadata": {},
   "outputs": [],
   "source": [
    "canvas = iris_visualizer.plot_normalized_iris(\n",
    "    normalized_iris=iris_pipeline.call_trace['normalization'],\n",
    ")\n",
    "plt.show()"
   ]
  },
  {
   "cell_type": "code",
   "execution_count": null,
   "id": "d4e6399a",
   "metadata": {},
   "outputs": [],
   "source": [
    "canvas = iris_visualizer.plot_iris_template(\n",
    "    iris_template=iris_pipeline.call_trace['encoder'],\n",
    ")\n",
    "plt.show()"
   ]
  },
  {
   "cell_type": "markdown",
   "id": "a3b7eab7-17cc-4e3f-a0d8-bf8e29463127",
   "metadata": {},
   "source": [
    "List of all available `IRISVisualizer` methods can be found in the `iris` package documentation.\n",
    "\n",
    "### Thank you for making it to the end of this tutorial!"
   ]
  }
 ],
 "metadata": {
  "kernelspec": {
   "display_name": "open_iris_dev",
   "language": "python",
   "name": "python3"
  },
  "language_info": {
   "codemirror_mode": {
    "name": "ipython",
    "version": 3
   },
   "file_extension": ".py",
   "mimetype": "text/x-python",
   "name": "python",
   "nbconvert_exporter": "python",
   "pygments_lexer": "ipython3",
   "version": "3.9.0"
  }
 },
 "nbformat": 4,
 "nbformat_minor": 5
}
